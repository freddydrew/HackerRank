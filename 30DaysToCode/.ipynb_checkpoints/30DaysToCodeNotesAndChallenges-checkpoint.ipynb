{
 "cells": [
  {
   "cell_type": "markdown",
   "id": "aa569335",
   "metadata": {},
   "source": [
    "## 30 Days to Code (Or however long it takes, it doesn't matter) !!!\n",
    "# Day 1: Data Types\n",
    "\n",
    "Find the problem and tutorial [here.](https://www.hackerrank.com/challenges/30-data-types/problem?isFullScreen=true)\n",
    "\n",
    "Notes:\n",
    "- Classes are basically blue prints to creating something. Classes have properties and methods.\n",
    "- If the class is a christmas tree, ornaments are properties that are defined  (red ornament, blue ornament), methods change things about objects built in the image of classes. So a method might remove an ornmament or add one to a specific instance of the christmas tree class. \n",
    "- So objects in real life that are represented by blue prints in code, called classes. We create and object through its described properties. They define what the object is. Methods change the properties. Properties are defined with different data types. \n",
    "- Reference Types are a shared copy of some object. Remember the golden rule of equals from CS61B. \n",
    "\n"
   ]
  },
  {
   "cell_type": "code",
   "execution_count": 1,
   "id": "371c2ae2",
   "metadata": {},
   "outputs": [
    {
     "name": "stdout",
     "output_type": "stream",
     "text": [
      "Type what you want to display in uppercase letters: fred\n",
      "FRED\n",
      "Enter a value to convert to an int: 1\n",
      "Enter a value to convert to a double: 22\n",
      "Enter a value to convert to a string: derf\n",
      "The sum of first and integer i is:  5\n",
      "The sum of second and float d is:  26.0\n",
      "The concatenation of third and string s is:  HackerRankderf\n"
     ]
    }
   ],
   "source": [
    "def Day1Challenge():\n",
    "    inputString = input('Type what you want to display in uppercase letters: ')\n",
    "    print(inputString.upper()) #upper is a class method for strings I think?\n",
    "\n",
    "    i = 4\n",
    "    d = 4.0\n",
    "    s = 'HackerRank'\n",
    "\n",
    "    #Declare an int, double, and string\n",
    "    first = int(5.6)\n",
    "    second = float(22)\n",
    "    third = str(42069)\n",
    "\n",
    "    #Read in values for each of the previous\n",
    "    first = int(input('Enter a value to convert to an int: '))\n",
    "    second = float(input('Enter a value to convert to a double: '))\n",
    "    third = str(input('Enter a value to convert to a string: '))\n",
    "\n",
    "    #Print sum of the integer values\n",
    "    print('The sum of first and integer i is: ',i + first)\n",
    "\n",
    "    #Print sum of the double values\n",
    "    print('The sum of second and float d is: ',d + second)\n",
    "\n",
    "    #Print concatenation of the string variables\n",
    "    print('The concatenation of third and string s is: ',s + third)\n",
    "    \n",
    "Day1Challenge()"
   ]
  },
  {
   "cell_type": "markdown",
   "id": "8d13be52",
   "metadata": {},
   "source": [
    "# DAY 2: Operators \n",
    "Python is completely object oriented and not statically typed. You don't need to declare variables before using them nor do you have to declare their type. THis exercise was written for a tutorial carried out in java so it's kind of superflous.\n",
    "\n",
    "Find the problem and tutorial [here.](https://www.hackerrank.com/challenges/30-operators/problem?isFullScreen=true)\n",
    "\n",
    "Notes:\n",
    "- When we create a property we declared that there will be a property called 'something', we allocated space in memory for its specific data type (lets say a double), and we gave it a value which is called initializing it.\n",
    "- None in python is the same as a Null object or variable in Java (kind of).\n",
    "- Other programming languages have a main function that automatically get executed but python does not do things this way.\n",
    "- A default contructor only takes in the instance being created and assigns it default values.\n",
    "- A parameterized contructor takes in parameters passed to it and assings those values to the instance's attributes.\n",
    "- An argument is the thing passed into a method that becomes the value of the parameter within the method. \n",
    "- Default values can be set for each parameter in the method definition line of the parametized contructor. "
   ]
  },
  {
   "cell_type": "code",
   "execution_count": 5,
   "id": "07c814ae",
   "metadata": {
    "scrolled": true
   },
   "outputs": [
    {
     "name": "stdout",
     "output_type": "stream",
     "text": [
      "Enter the price of the meal, before tip and tax: 12\n",
      "Enter the tip as a percent: 20\n",
      "Enter the tax as a percent: 8\n",
      "The total cost of the meal is:  15\n"
     ]
    }
   ],
   "source": [
    "#!/bin/python3 I could indicate which interpreter to use with this shebang line if I wanted on a Unix system\n",
    "\n",
    "import math\n",
    "import os\n",
    "import random \n",
    "import re\n",
    "import sys \n",
    "\n",
    "\n",
    "def Day2Challenge():\n",
    "    #this function finds the total cost of a meal, out-the-door, rounded\n",
    "    def solve(meal_cost, tip_percent, tax_percent):\n",
    "        tip = meal_cost*(tip_percent/100)\n",
    "        tax = meal_cost*(tax_percent/100)\n",
    "        print('The total cost of the meal is: ', round(tax + tip + meal_cost))\n",
    "\n",
    "    #inputs to be used in the function\n",
    "    price = float(input('Enter the price of the meal, before tip and tax: ').strip()) #strip removes leading and trailing whitespace\n",
    "    tipPercentage = int(input('Enter the tip as a percent: ').strip())\n",
    "    taxPercentage = int(input('Enter the tax as a percent: ').strip())\n",
    "\n",
    "    #function call\n",
    "    solve(price, tipPercentage, taxPercentage)\n",
    "\n",
    "Day2Cahllenge()"
   ]
  },
  {
   "cell_type": "markdown",
   "id": "10d87eb9",
   "metadata": {},
   "source": [
    "# DAY 3: Intro to Conditional Statements\n",
    "\n",
    "Find the problem and tutorial [here.](https://www.hackerrank.com/challenges/30-conditional-statements/problem?isFullScreen=true)\n",
    "\n"
   ]
  },
  {
   "cell_type": "code",
   "execution_count": 6,
   "id": "82ed2032",
   "metadata": {
    "scrolled": true
   },
   "outputs": [
    {
     "name": "stdout",
     "output_type": "stream",
     "text": [
      "Enter an integer: 20\n"
     ]
    }
   ],
   "source": [
    "def Day3Challenge():\n",
    "    n = int(input(\"Enter an integer: \"))\n",
    "\n",
    "    if n % 2 != 0:\n",
    "        print('Weird')\n",
    "    elif n % 2 == 0 and n in range(2,5):\n",
    "        print('Not Weird')\n",
    "    elif n % 2 == 0 and n in range(6,20):\n",
    "        print('Not Weird')\n",
    "    elif n % 2 == 0 and n > 20:\n",
    "        print('Not Weird')\n",
    "        \n",
    "Day3Challenge()"
   ]
  },
  {
   "cell_type": "markdown",
   "id": "30abbe53",
   "metadata": {},
   "source": [
    "# DAY 4: Class Vs Inheritance\n",
    "\n",
    "Find the problem and tutorial [here.](https://www.hackerrank.com/challenges/30-class-vs-instance/problem?isFullScreen=true)\n",
    "\n",
    "Notes:\n",
    "- Boolean Operators: **and**, **or**, **not** in python\n",
    "\n"
   ]
  },
  {
   "cell_type": "code",
   "execution_count": 3,
   "id": "3d32c984",
   "metadata": {},
   "outputs": [
    {
     "name": "stdout",
     "output_type": "stream",
     "text": [
      "You are old.\n",
      "You are now 28 years old.\n"
     ]
    }
   ],
   "source": [
    "def Day4Challenge():\n",
    "    #defining a the Person class\n",
    "    class Person:\n",
    "\n",
    "        #the parameterized constructor \n",
    "        def __init__(self,initialAge):\n",
    "            if initialAge < 0:\n",
    "                self.age = 0\n",
    "                print('Age is not valid, setting age to 0.')\n",
    "            else:\n",
    "                self.age = initialAge\n",
    "\n",
    "        #an instance method, increments age by +1\n",
    "        def yearPasses(self):\n",
    "            self.age += 1\n",
    "            print('You are now',self.age,'years old.')\n",
    "\n",
    "        #an instance method, tells if you are old\n",
    "        def amIOld(self):\n",
    "            if self.age < 13:\n",
    "                print('You are young.')\n",
    "            elif self.age >= 13 and self.age < 18:\n",
    "                print('You are a teenager.')\n",
    "            else:\n",
    "                print('You are old.')\n",
    "\n",
    "    #instantiating an object of type person, calling it Freddy            \n",
    "    Freddy = Person(27)\n",
    "    #invoking instance methods\n",
    "    Freddy.amIOld()\n",
    "    Freddy.yearPasses()\n",
    "\n",
    "Day4Challenge()\n"
   ]
  },
  {
   "cell_type": "markdown",
   "id": "a26d5690",
   "metadata": {},
   "source": [
    "# DAY 5: Loops\n",
    "\n",
    "Find the problem and tutorial [here.](https://www.hackerrank.com/challenges/30-loops/problem?isFullScreen=true)\n",
    "\n",
    "Notes:\n",
    "- **break** ends the loop completely\n",
    "- **continue** skips the current iteration of the loop\n",
    "- **while**, **for** loops are control flow statements that allow continual execution of a code if a condition is met, kind of repeating if-statements\n",
    "- **while loops** check for a condition and then execute the block of code\n",
    "- **do-while** loops do the block of code then check the condition. They dont exist in python so we edit a while loop to have the same behavior of executing a code block at least once then checking a condition to see if should run again.\n"
   ]
  },
  {
   "cell_type": "code",
   "execution_count": 7,
   "id": "fd2c4519",
   "metadata": {},
   "outputs": [
    {
     "name": "stdout",
     "output_type": "stream",
     "text": [
      "Enter a number:10\n",
      "Printing the first 10 multiples with the format string method:\n",
      "10.0 x 1 is 10.0\n",
      "10.0 x 2 is 20.0\n",
      "10.0 x 3 is 30.0\n",
      "10.0 x 4 is 40.0\n",
      "10.0 x 5 is 50.0\n",
      "10.0 x 6 is 60.0\n",
      "10.0 x 7 is 70.0\n",
      "10.0 x 8 is 80.0\n",
      "10.0 x 9 is 90.0\n",
      "10.0 x 10 is 100.0\n",
      "\n",
      "Printing the first 10 multiples with the f-string method:\n",
      "10.0 x 1.0 is 10.0\n",
      "10.0 x 2.0 is 20.0\n",
      "10.0 x 3.0 is 30.0\n",
      "10.0 x 4.0 is 40.0\n",
      "10.0 x 5.0 is 50.0\n",
      "10.0 x 6.0 is 60.0\n",
      "10.0 x 7.0 is 70.0\n",
      "10.0 x 8.0 is 80.0\n",
      "10.0 x 9.0 is 90.0\n",
      "10.0 x 10.0 is 100.0\n"
     ]
    }
   ],
   "source": [
    "def Day5Challenge():\n",
    "    #have the user enter a number to show the first ten multiples of\n",
    "    n = float(input('Enter a number:').strip())\n",
    "\n",
    "    print('Printing the first 10 multiples with the format string method:')\n",
    "    for i in range(1,11): #this is how to have i iterate through numbers 1 through 10 in python in a for loop\n",
    "        print('{} x {} is {}'.format(n, i, n*i))\n",
    "\n",
    "    #prints the same thing with other method, puts a new line using \\n infront\n",
    "    print('\\nPrinting the first 10 multiples with the f-string method:')\n",
    "    for i in range(1,11): #this is how to have i iterate through numbers 1 through 10 in python in a for loop\n",
    "        print(f'{n} x {float(i)} is {n*i}')\n",
    "    \n",
    "Day5Challenge()"
   ]
  },
  {
   "cell_type": "markdown",
   "id": "1512bda8",
   "metadata": {},
   "source": [
    "# DAY 6: Let's Review\n",
    "\n",
    "Find the problem and tutorial [here.](https://www.hackerrank.com/challenges/30-review-loop/problem?isFullScreen=true)\n",
    "\n",
    "Notes:"
   ]
  },
  {
   "cell_type": "code",
   "execution_count": null,
   "id": "56ff2328",
   "metadata": {},
   "outputs": [],
   "source": [
    "#making a function for the day so the variables aren't in the global scope\n",
    "def Day6Challenge():\n",
    "    T = int(input().strip()) #takes an integer that is the number of strings to be passed in\n",
    "    strings = list() #create an empty list\n",
    "    for i in range(0,T): #prompts the user T times for strings\n",
    "        strings.append(input().strip()) #takes the string in, loses leading/tailing white space\n",
    "    for word in strings:\n",
    "        even = '' #for storing even indexed letters\n",
    "        odd = '' #for storing odd indexed letters\n",
    "        count = 0 #to account for indexes already processed\n",
    "        for letter in word:\n",
    "            idx = word.index(letter,count) #returns index of the character, starting from count \n",
    "            if idx % 2 == 0: #finds the even indexed\n",
    "                even += letter\n",
    "            else: #takes the odd indexed\n",
    "                odd += letter   \n",
    "            count += 1 #increments the count so no duplicates get processed\n",
    "        print(even,odd) #prints them out seperated by a white space\n",
    "                \n",
    "Day6Challenge() #function call for day 6 challenge function\n"
   ]
  },
  {
   "cell_type": "markdown",
   "id": "63a29761",
   "metadata": {},
   "source": [
    "# DAY 7: Arrays\n",
    "\n",
    "Find the problem and tutorial [here.](https://www.hackerrank.com/challenges/30-arrays/problem?isFullScreen=true)\n",
    "\n",
    "Notes: \n",
    "\n",
    "- An **array** is a container object that holds a fixed number of values of the same data type if imported from the *arr* module. If an **array** is imported from the *numpy* module it can support different data types.\n",
    "- **Arrays** from the *numpy* package are very similar to the built-in to python data stucture, **lists**\n"
   ]
  },
  {
   "cell_type": "code",
   "execution_count": null,
   "id": "c54bd15c",
   "metadata": {},
   "outputs": [],
   "source": [
    "#making a function for the day so the variables aren't in the global scope\n",
    "def Day7ChallengeLists():\n",
    "    #Don't really need this integer to complete the challenge\n",
    "    n = int(input(\"Gimme an integer!\").strip())\n",
    "    #Im not sure where I got this solution from the first time I made it this far with the challenges.\n",
    "    #The second solution is mine and mine alone.\n",
    "    \n",
    "    #arr = list(map(int, input().rstrip().split()))\n",
    "    arr = input().split()\n",
    "    print(' ' .join(arr[::-1]))\n",
    "    \n",
    "Day7ChallengeLists() #function call for day 7 challenge function using built-in python lists"
   ]
  },
  {
   "cell_type": "code",
   "execution_count": 4,
   "id": "2f855752",
   "metadata": {},
   "outputs": [
    {
     "name": "stdout",
     "output_type": "stream",
     "text": [
      "Gimme an integer!4\n",
      "1 2 3 4\n",
      "4 3 2 1\n"
     ]
    }
   ],
   "source": [
    "def Day7ChallengeArrays():\n",
    "    import numpy as np\n",
    "    \n",
    "    #Don't really need this integer to complete the challenge\n",
    "    n = int(input(\"Gimme an integer!\").strip())\n",
    "    #Im not sure where I got this solution from the first time I made it this far with the challenges.\n",
    "    #The second solution is mine and mine alone.\n",
    "    \n",
    "    #arr = list(map(int, input().rstrip().split()))\n",
    "    \n",
    "    #join function for lists works for numpy arrays as well!!!\n",
    "    arr = np.array(input().split())\n",
    "    print(' '.join(arr[::-1]))\n",
    "    \n",
    "Day7ChallengeArrays() #function call for day 7 challenge function using numpy arrays"
   ]
  },
  {
   "cell_type": "markdown",
   "id": "0c77dd93",
   "metadata": {},
   "source": [
    "# DAY 8: Dictionaries and Hash Maps\n",
    "\n",
    "Find the problem and tutorial [here.](https://www.hackerrank.com/challenges/30-dictionaries-and-maps/problem?isFullScreen=true)\n",
    "\n",
    "Notes:\n",
    "\n",
    "- **Key:Value** pairs inside an array-like container with no restrictions on size\n",
    "- Remember **frequency tables** from dataquest were created using dictionaries in python\n"
   ]
  },
  {
   "cell_type": "code",
   "execution_count": null,
   "id": "b0d83c14",
   "metadata": {},
   "outputs": [],
   "source": [
    "def Day8Challenge():\n",
    "    n = int(input()) #number of following arguments that will be in the phonebook\n",
    "    name_numbers = [input().split() for i in range(n)] #splitting the space seperated names and numbers n times\n",
    "    phone_nums = {key:value for key,value in name_numbers} #mapping the keys(names) to the values(numbers)\n",
    "    while True: #infinite loop \n",
    "        try:\n",
    "            query = input() #the name to search in the phonebook\n",
    "            if query in phone_nums:\n",
    "                print(f'{query}={phone_nums[query]}')\n",
    "            else:\n",
    "                print('Not found')\n",
    "        except: #the HackerRank test will stop giving input in which this is supposed to stop the loop\n",
    "            break\n",
    "            \n",
    "Day8Challenge()"
   ]
  },
  {
   "cell_type": "markdown",
   "id": "825ef64d",
   "metadata": {},
   "source": [
    "# DAY 9: Recursion\n",
    "\n",
    "Find the problem and tutorial [here.](https://www.hackerrank.com/challenges/30-recursion/problem?isFullScreen=true)\n",
    "\n",
    "Notes:\n",
    "\n",
    "- **Recursion** always has a **base case** when we stop repeating the algorithm, and awlays has a **recursive case** where we repeat the algorithm.\n",
    "\n",
    "\n",
    "\n"
   ]
  },
  {
   "cell_type": "code",
   "execution_count": 2,
   "id": "a28dcd45",
   "metadata": {},
   "outputs": [
    {
     "name": "stdout",
     "output_type": "stream",
     "text": [
      "The factorial of 6 is: 720\n"
     ]
    }
   ],
   "source": [
    "def Day9Challenge(n):\n",
    "    #base case\n",
    "    if n == 1: #multiplicative identity property\n",
    "        return n\n",
    "    #recursive case\n",
    "    return n*Day9Challenge(n-1)\n",
    "num = 6\n",
    "print(f'The factorial of {num} is:',Day9Challenge(num))"
   ]
  },
  {
   "cell_type": "markdown",
   "id": "6e3434b6",
   "metadata": {},
   "source": [
    "# DAY 10: Binary Numbers\n",
    "\n",
    "Find the problem and tutorial [here.](https://www.hackerrank.com/challenges/30-binary-numbers/problem?isFullScreen=true)\n",
    "\n",
    "Notes:\n",
    "\n",
    "- There are only 10 kinds of people in this world, those that understand binary and those that don't.\n",
    "- 723 = 7x10^2 + 2x10^1 + 3x10^0 ----> base 10 system, decimal\n",
    "- **Binary** is a base 2 system \n",
    "### The image below shows the conversion between binary and decimal numbers.\n",
    "\n",
    "![This diagram explains the conversion between binary and decimal](BinaryToDecimalDiagram.png)\n",
    "\n"
   ]
  },
  {
   "cell_type": "markdown",
   "id": "c85c885e",
   "metadata": {},
   "source": [
    "### The image below shows the conversion between binary and decimal numbers as demonstrated in the Day 10 Tutorial video by BlondieBytes. The solution to the Day 10 Challenge has it roots in this video still.\n",
    "\n",
    "![This diagram explains the conversion between binary and decimal](BlondieBytesBinaryToDecimalExample.png)"
   ]
  },
  {
   "cell_type": "markdown",
   "id": "bac2e344",
   "metadata": {},
   "source": [
    "Takeaways from this method:\n",
    "\n",
    "- We take the decimal value and divide it by two.\n",
    "- The remainder becomes the bit\n",
    "- The quotient becomes the dividend in the next step.\n",
    "- The new divident is divided by 2 again, and again the remainder is the bit.\n",
    "- This process is repeated until the dividend is 1.\n",
    "- Lastly the last bit found is the left-most bit and all other fall behind. "
   ]
  },
  {
   "cell_type": "code",
   "execution_count": 6,
   "id": "9daecdf3",
   "metadata": {},
   "outputs": [
    {
     "name": "stdout",
     "output_type": "stream",
     "text": [
      "55\n",
      "Most consecutive bits equal to 1 in the binary representation of 55 is: 3\n"
     ]
    }
   ],
   "source": [
    "def Day10Challenge():\n",
    "    def Decimal2Binary(num):\n",
    "        #base case of recursion algorithm\n",
    "        if num == 1: #the final step, a dividend of 1\n",
    "            return str(num % 2) #the left-most bit case, done last or at the bottom of the recursive stack\n",
    "        #recursive case\n",
    "        remainder = num % 2 #modulo, to get the bit corresponding to this iteration\n",
    "        dividend = num // 2 #integer division, to get the next iteration's dividend\n",
    "        return str(Decimal2Binary(dividend)) + str(remainder) #the first iteration will be the right-most bit\n",
    "    \n",
    "    n = int(input().strip()) #a decimal number represented as an int, to be converted\n",
    "    BinStr = Decimal2Binary(n).split('0') #the output of the conversion, stripped of zeros, isolating the groupings of ones\n",
    "    #iterate through the split up vector, only take elements that are not empty after the split, find the length of each\n",
    "    #resultant element, find the max length of all of them, thus printing the largest grouping of consecutive ones in the \n",
    "    #binary represntation of the provided decimal number.\n",
    "    print(f'Most consecutive bits equal to 1 in the binary representation of {n} is:',\\\n",
    "          max([len(num) for num in BinStr if num != ''])) \n",
    "    \n",
    "Day10Challenge()"
   ]
  },
  {
   "cell_type": "markdown",
   "id": "f2dfbb1b",
   "metadata": {},
   "source": [
    "# DAY 11: 2D Arrays, Make a Catalogue From Scratch\n",
    "\n",
    "Find the problem and tutorial [here.](https://www.hackerrank.com/challenges/30-2d-arrays/problem)\n",
    "\n",
    "Notes:\n",
    "\n",
    "- What have we learned so far?\n",
    "    - Class Vs Inheritance\n",
    "    - Contructors\n",
    "    - Fields\n",
    "    - Parameters\n",
    "    - Data Types\n",
    "    - Return Types\n",
    "    - Print Statements\n",
    "    - Arrays\n",
    "    - Dictionaries (Hash Maps)\n",
    "    - Recursion\n",
    "    - Binary Numbers"
   ]
  },
  {
   "cell_type": "code",
   "execution_count": 4,
   "id": "04f37155",
   "metadata": {},
   "outputs": [
    {
     "name": "stdout",
     "output_type": "stream",
     "text": [
      "19\n"
     ]
    }
   ],
   "source": [
    "def Day11Challenge(): \n",
    "    #on HackerRank, the arr matrix is passed by a variable input, here I just declare one such case\n",
    "    arr = [[1, 1, 1, 0, 0, 0],\\\n",
    "           [0, 1, 0, 0, 0, 0],\\\n",
    "           [1, 1, 1, 0, 0, 0,],\\\n",
    "           [0, 0, 2, 4, 4, 0],\\\n",
    "           [0, 0, 0, 2, 0, 0],\\\n",
    "           [0, 0, 1, 2, 4, 0]]\n",
    "\n",
    "    #simply iterates through the contrained size of the matrix, finds the \"hourglass\", \n",
    "    #takes the max and assigns it to a temp variable, and replaces the previous max of it if its larger\n",
    "    for i in range(0,4): \n",
    "        for j in range(0,4):  \n",
    "            temp = sum(arr[i][j:j+3])\n",
    "            temp += arr[i+1][j+1]\n",
    "            temp += sum(arr[i+2][j:j+3])\n",
    "            if j == 0 and i == 0:\n",
    "                maxnum = temp\n",
    "            elif temp > maxnum:\n",
    "                maxnum = temp\n",
    "    print(maxnum)\n",
    "    \n",
    "Day11Challenge()"
   ]
  },
  {
   "cell_type": "code",
   "execution_count": null,
   "id": "065b69e0",
   "metadata": {},
   "outputs": [],
   "source": []
  },
  {
   "cell_type": "code",
   "execution_count": null,
   "id": "5848e777",
   "metadata": {},
   "outputs": [],
   "source": []
  },
  {
   "cell_type": "code",
   "execution_count": null,
   "id": "202205be",
   "metadata": {},
   "outputs": [],
   "source": []
  },
  {
   "cell_type": "code",
   "execution_count": null,
   "id": "23e8aee3",
   "metadata": {},
   "outputs": [],
   "source": []
  },
  {
   "cell_type": "code",
   "execution_count": null,
   "id": "2ee53855",
   "metadata": {},
   "outputs": [],
   "source": []
  },
  {
   "cell_type": "code",
   "execution_count": null,
   "id": "00c4a1d7",
   "metadata": {},
   "outputs": [],
   "source": []
  }
 ],
 "metadata": {
  "kernelspec": {
   "display_name": "Python 3",
   "language": "python",
   "name": "python3"
  },
  "language_info": {
   "codemirror_mode": {
    "name": "ipython",
    "version": 3
   },
   "file_extension": ".py",
   "mimetype": "text/x-python",
   "name": "python",
   "nbconvert_exporter": "python",
   "pygments_lexer": "ipython3",
   "version": "3.8.8"
  }
 },
 "nbformat": 4,
 "nbformat_minor": 5
}
